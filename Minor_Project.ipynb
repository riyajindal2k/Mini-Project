{
  "nbformat": 4,
  "nbformat_minor": 0,
  "metadata": {
    "colab": {
      "name": "Minor Project.ipynb",
      "provenance": [],
      "collapsed_sections": [],
      "mount_file_id": "10z10WuF9MPjrdXTCB9ABI_CbKnjf9xLa",
      "authorship_tag": "ABX9TyPzcvBVUbPppQRVTZC4m6fx",
      "include_colab_link": true
    },
    "kernelspec": {
      "name": "python3",
      "display_name": "Python 3"
    }
  },
  "cells": [
    {
      "cell_type": "markdown",
      "metadata": {
        "id": "view-in-github",
        "colab_type": "text"
      },
      "source": [
        "<a href=\"https://colab.research.google.com/github/riyajindal2k/Mini-Project/blob/main/Minor_Project.ipynb\" target=\"_parent\"><img src=\"https://colab.research.google.com/assets/colab-badge.svg\" alt=\"Open In Colab\"/></a>"
      ]
    },
    {
      "cell_type": "code",
      "metadata": {
        "colab": {
          "base_uri": "https://localhost:8080/"
        },
        "id": "NZf1BvU1xypJ",
        "outputId": "cc6fd59b-7c30-4185-d54d-2b6d913bc71c"
      },
      "source": [
        "from google.colab import drive\n",
        "drive.mount('/content/drive')"
      ],
      "execution_count": 1,
      "outputs": [
        {
          "output_type": "stream",
          "text": [
            "Mounted at /content/drive\n"
          ],
          "name": "stdout"
        }
      ]
    },
    {
      "cell_type": "code",
      "metadata": {
        "id": "xyXbdODAvBaX"
      },
      "source": [
        "# libraries required\r\n",
        "import os\r\n",
        "import matplotlib.pyplot as plt\r\n",
        "import numpy as np\r\n",
        "import cv2\r\n",
        "from skimage.io import imread\r\n",
        "from skimage.transform import resize"
      ],
      "execution_count": 2,
      "outputs": []
    },
    {
      "cell_type": "code",
      "metadata": {
        "colab": {
          "base_uri": "https://localhost:8080/"
        },
        "id": "i6iUzOzDvj-K",
        "outputId": "26cc6f7a-faa8-4e9e-a7f8-4169dc4f83df"
      },
      "source": [
        "target = []\r\n",
        "images = []\r\n",
        "flat_data = []\r\n",
        "\r\n",
        "DATADIR = '/content/drive/MyDrive/images'\r\n",
        "CATEGORIES = ['earphones','laptop','speaker']\r\n",
        "for category in CATEGORIES:\r\n",
        "  class_num = CATEGORIES.index(category)        # label encoding the values\r\n",
        "  path = os.path.join(DATADIR,category)         # Create path to use all the images, e.g - /content/images/earphones\r\n",
        "  print(path)\r\n",
        "  \r\n",
        "  for img in os.listdir(path):\r\n",
        "    #print(os.path.join(path,img))\r\n",
        "    img_array = cv2.imread(os.path.join(path,img))\r\n",
        "    #print(img_array.shape)\r\n",
        "    #plt.imshow(img_array)\r\n",
        "    img_resized = resize(img_array,(150,150,3))                         # Normalizes the value 0 to 1\r\n",
        "    flat_data.append(img_resized.flatten())\r\n",
        "    images.append(img_resized)\r\n",
        "    target.append(class_num)\r\n",
        "\r\n",
        "flat_data = np.array(flat_data)\r\n",
        "target = np.array(target)\r\n",
        "images = np.array(images)\r\n",
        "\r\n"
      ],
      "execution_count": 3,
      "outputs": [
        {
          "output_type": "stream",
          "text": [
            "/content/drive/MyDrive/images/earphones\n",
            "/content/drive/MyDrive/images/laptop\n",
            "/content/drive/MyDrive/images/speaker\n"
          ],
          "name": "stdout"
        }
      ]
    },
    {
      "cell_type": "code",
      "metadata": {
        "id": "P8ZNnUt7vkAo",
        "colab": {
          "base_uri": "https://localhost:8080/"
        },
        "outputId": "21a793e2-4e98-421c-be0e-7b8c8fbf164a"
      },
      "source": [
        "# Split data into Training and Testing\r\n",
        "\r\n",
        "from sklearn.model_selection import train_test_split\r\n",
        "x_train, x_test, y_train, y_test = train_test_split(flat_data,target,test_size=0.3,random_state=109)\r\n",
        "\r\n",
        "from sklearn.model_selection import GridSearchCV\r\n",
        "from sklearn.svm import SVC\r\n",
        "\r\n",
        "param_grid = [\r\n",
        "                  {'C':[1,10,100,1000],'kernel':['linear']},\r\n",
        "                  {'C':[1,10,100,1000],'gamma':[0.001,0.0001],'kernel':['rbf']},\r\n",
        "]\r\n",
        "\r\n",
        "svc = SVC(probability=True)\r\n",
        "clf = GridSearchCV(svc, param_grid)\r\n",
        "clf.fit(x_train, y_train)\r\n"
      ],
      "execution_count": 4,
      "outputs": [
        {
          "output_type": "execute_result",
          "data": {
            "text/plain": [
              "GridSearchCV(cv=None, error_score=nan,\n",
              "             estimator=SVC(C=1.0, break_ties=False, cache_size=200,\n",
              "                           class_weight=None, coef0=0.0,\n",
              "                           decision_function_shape='ovr', degree=3,\n",
              "                           gamma='scale', kernel='rbf', max_iter=-1,\n",
              "                           probability=True, random_state=None, shrinking=True,\n",
              "                           tol=0.001, verbose=False),\n",
              "             iid='deprecated', n_jobs=None,\n",
              "             param_grid=[{'C': [1, 10, 100, 1000], 'kernel': ['linear']},\n",
              "                         {'C': [1, 10, 100, 1000], 'gamma': [0.001, 0.0001],\n",
              "                          'kernel': ['rbf']}],\n",
              "             pre_dispatch='2*n_jobs', refit=True, return_train_score=False,\n",
              "             scoring=None, verbose=0)"
            ]
          },
          "metadata": {
            "tags": []
          },
          "execution_count": 4
        }
      ]
    },
    {
      "cell_type": "code",
      "metadata": {
        "id": "3aWKWIR-vkCw",
        "colab": {
          "base_uri": "https://localhost:8080/"
        },
        "outputId": "e404aa95-3104-44d3-8a31-73bd93fdba6a"
      },
      "source": [
        "y_pred = clf.predict(x_test)\r\n",
        "print(y_pred)"
      ],
      "execution_count": 5,
      "outputs": [
        {
          "output_type": "stream",
          "text": [
            "[1 0 1 2 2 1 0 1 2 0 2 0 2 1 2 2 2 1 0 2 1 2 1 0 0 0 1]\n"
          ],
          "name": "stdout"
        }
      ]
    },
    {
      "cell_type": "code",
      "metadata": {
        "id": "eg492eufvkE4",
        "colab": {
          "base_uri": "https://localhost:8080/"
        },
        "outputId": "c059546e-4848-46d9-ac0f-520f7df5da68"
      },
      "source": [
        "from sklearn.metrics import accuracy_score,confusion_matrix\r\n",
        "print(accuracy_score(y_pred, y_test))\r\n",
        "print(confusion_matrix(y_pred, y_test))"
      ],
      "execution_count": 6,
      "outputs": [
        {
          "output_type": "stream",
          "text": [
            "0.7037037037037037\n",
            "[[8 0 0]\n",
            " [0 6 3]\n",
            " [0 5 5]]\n"
          ],
          "name": "stdout"
        }
      ]
    },
    {
      "cell_type": "code",
      "metadata": {
        "id": "vGxTJxKNvkK3"
      },
      "source": [
        ""
      ],
      "execution_count": null,
      "outputs": []
    }
  ]
}